{
 "cells": [
  {
   "cell_type": "code",
   "execution_count": 2,
   "id": "3ad8c2ba-f52f-41ff-9d8a-a556ea73cd83",
   "metadata": {},
   "outputs": [],
   "source": [
    "import pandas as pd\n",
    "import numpy as np\n",
    "import matplotlib.pyplot as plt\n",
    "from sklearn import preprocessing\n",
    "from sklearn import utils\n",
    "from sklearn.preprocessing import LabelEncoder\n",
    "from sklearn.model_selection import train_test_split\n",
    "from sklearn.naive_bayes import GaussianNB\n",
    "from sklearn.metrics import accuracy_score"
   ]
  },
  {
   "cell_type": "code",
   "execution_count": 3,
   "id": "a94a82f4-7bf2-4f74-9ab5-f29b35b77374",
   "metadata": {},
   "outputs": [
    {
     "name": "stdout",
     "output_type": "stream",
     "text": [
      "      MEDICAL_UNIT     SEX   PATIENT_TYPE  PNEUMONIA  AGE  DIABETES  COPD  \\\n",
      "0                1  Female  Returned Home          1   65         2     2   \n",
      "1                1    Male  Returned Home          1   72         2     2   \n",
      "2                1    Male    Hosptilized          2   55         1     2   \n",
      "3                1  Female  Returned Home          2   53         2     2   \n",
      "4                1    Male  Returned Home          2   68         1     2   \n",
      "...            ...     ...            ...        ...  ...       ...   ...   \n",
      "9995             3  Female  Returned Home          2    8         2     2   \n",
      "9996             3  Female  Returned Home          2    3         2     2   \n",
      "9997             3    Male  Returned Home          2   45         2     2   \n",
      "9998             3  Female  Returned Home          2   32         2     2   \n",
      "9999             3  Female  Returned Home          2   60         2     2   \n",
      "\n",
      "      ASTHMA  INMSUPR  HIPERTENSION  OTHER_DISEASE  CARDIOVASCULAR  OBESITY  \\\n",
      "0          2        2             1              2               2        2   \n",
      "1          2        2             1              2               2        1   \n",
      "2          2        2             2              2               2        2   \n",
      "3          2        2             2              2               2        2   \n",
      "4          2        2             1              2               2        2   \n",
      "...      ...      ...           ...            ...             ...      ...   \n",
      "9995       2        2             2              2               2        2   \n",
      "9996       2        2             2              2               2        2   \n",
      "9997       2        2             1              2               2        2   \n",
      "9998       2        2             2              2               2        2   \n",
      "9999       2        2             2              2               2        1   \n",
      "\n",
      "      RENAL_CHRONIC  TOBACCO   RESULTS  \n",
      "0                 2        2  Positive  \n",
      "1                 1        2  Negative  \n",
      "2                 2        2  Positive  \n",
      "3                 2        2  Negative  \n",
      "4                 2        2  Positive  \n",
      "...             ...      ...       ...  \n",
      "9995              2        2  Negative  \n",
      "9996              2        2  Negative  \n",
      "9997              1        2  Negative  \n",
      "9998              2        2  Negative  \n",
      "9999              2        2  Negative  \n",
      "\n",
      "[10000 rows x 16 columns]\n"
     ]
    }
   ],
   "source": [
    "df = pd.read_csv('Covid Data.csv')\n",
    "print(df)"
   ]
  },
  {
   "cell_type": "code",
   "execution_count": 4,
   "id": "f2b359d8-bdbe-4147-a170-84a6912257e9",
   "metadata": {},
   "outputs": [],
   "source": [
    "le = LabelEncoder()\n",
    "encoded = le.fit_transform(df['SEX'])\n",
    "df.drop('SEX', axis=1, inplace=True)\n",
    "\n",
    "df['SEX']=encoded\n",
    "\n",
    "encoded = le.fit_transform(df['PATIENT_TYPE'])\n",
    "df.drop('PATIENT_TYPE', axis=1, inplace=True)\n",
    "\n",
    "df['PATIENT_TYPE']= encoded"
   ]
  },
  {
   "cell_type": "code",
   "execution_count": 5,
   "id": "59d3c3f9-ed4a-4d21-8cd2-e3bccac0b56e",
   "metadata": {},
   "outputs": [
    {
     "name": "stdout",
     "output_type": "stream",
     "text": [
      "(10000, 15)\n",
      "(10000,)\n",
      "X_train shape: (8000, 15)\n",
      "Y_train shape: (8000,)\n",
      "X_test shape: (2000, 15)\n",
      "Y_test shape: (2000,)\n"
     ]
    }
   ],
   "source": [
    "X = df.drop(['RESULTS'], axis = 1)\n",
    "Y = df['RESULTS']\n",
    "print(X.shape)\n",
    "print(Y.shape)\n",
    "X_train, X_test, Y_train, Y_test = train_test_split(X, Y, train_size=0.8)\n",
    "print('X_train shape:',X_train.shape)\n",
    "print('Y_train shape:',Y_train.shape)\n",
    "print('X_test shape:',X_test.shape)\n",
    "print('Y_test shape:',Y_test.shape)"
   ]
  },
  {
   "cell_type": "markdown",
   "id": "3b3a9eac-d4bb-4a5c-b326-0b01b78fe363",
   "metadata": {},
   "source": [
    "# Gaussian Naive Bayes"
   ]
  },
  {
   "cell_type": "code",
   "execution_count": 7,
   "id": "9bf75de6-ad05-4c1e-b0ab-d69a05120449",
   "metadata": {},
   "outputs": [
    {
     "name": "stdout",
     "output_type": "stream",
     "text": [
      "Accuracy Score:  0.7735\n",
      "Roll Num: CB.SC.I5DAS21049\n",
      "Name: Pratiksha Cauvery K P\n"
     ]
    }
   ],
   "source": [
    "from sklearn.naive_bayes import GaussianNB\n",
    "\n",
    "gnb = GaussianNB()\n",
    "gnb.fit(X_train, Y_train)\n",
    "gnb_pred  = gnb.predict(X_test)\n",
    "print(\"Accuracy Score: \", accuracy_score(Y_test,gnb_pred))\n",
    "print(\"Roll Num: CB.SC.I5DAS21049\")\n",
    "print(\"Name: Pratiksha Cauvery K P\")"
   ]
  },
  {
   "cell_type": "markdown",
   "id": "555cb830-0452-412b-94d8-1f14170b510a",
   "metadata": {},
   "source": [
    "# Support Vector Machines"
   ]
  },
  {
   "cell_type": "code",
   "execution_count": 8,
   "id": "97a2110c-5679-415d-99e9-d9ab97fc250c",
   "metadata": {},
   "outputs": [
    {
     "name": "stdout",
     "output_type": "stream",
     "text": [
      "Accuracy Score:  0.895\n",
      "Roll Num: CB.SC.I5DAS21049\n",
      "Name: Pratiksha Cauvery K P\n"
     ]
    }
   ],
   "source": [
    "from sklearn.svm import SVC\n",
    "\n",
    "svm = SVC(kernel = 'linear')\n",
    "svm.fit(X_train, Y_train)\n",
    "svm_pred = svm.predict(X_test)\n",
    "print(\"Accuracy Score: \", accuracy_score(Y_test,svm_pred))\n",
    "print(\"Roll Num: CB.SC.I5DAS21049\")\n",
    "print(\"Name: Pratiksha Cauvery K P\")"
   ]
  },
  {
   "cell_type": "markdown",
   "id": "dd9b5966-314b-4066-bd80-ef2c9d828deb",
   "metadata": {},
   "source": [
    "# Decision Tree Classifier"
   ]
  },
  {
   "cell_type": "code",
   "execution_count": 9,
   "id": "7a99378f-c410-48c6-8dae-4aabb9f4cfbe",
   "metadata": {},
   "outputs": [
    {
     "name": "stdout",
     "output_type": "stream",
     "text": [
      "Accuracy Score:  0.845\n",
      "Roll Num: CB.SC.I5DAS21049\n",
      "Name: Pratiksha Cauvery K P\n"
     ]
    }
   ],
   "source": [
    "from sklearn.tree import DecisionTreeClassifier\n",
    "\n",
    "dtc = DecisionTreeClassifier()\n",
    "dtc.fit(X_train,Y_train)\n",
    "dtc_pred = dtc.predict(X_test)\n",
    "print(\"Accuracy Score: \", accuracy_score(Y_test,dtc_pred))\n",
    "print(\"Roll Num: CB.SC.I5DAS21049\")\n",
    "print(\"Name: Pratiksha Cauvery K P\")"
   ]
  },
  {
   "cell_type": "markdown",
   "id": "bef94a5b-090c-4aa9-b8c3-b3f3b841af11",
   "metadata": {},
   "source": [
    "# K Nearest Neighbors"
   ]
  },
  {
   "cell_type": "code",
   "execution_count": 10,
   "id": "a79afbe7-b71e-40d7-b44c-1010b89de9a5",
   "metadata": {},
   "outputs": [
    {
     "name": "stdout",
     "output_type": "stream",
     "text": [
      "Accuracy Score:  0.8835\n",
      "Roll Num: CB.SC.I5DAS21049\n",
      "Name: Pratiksha Cauvery K P\n"
     ]
    }
   ],
   "source": [
    "from sklearn.neighbors import KNeighborsClassifier\n",
    "\n",
    "knn = KNeighborsClassifier()\n",
    "knn.fit(X_train, Y_train)\n",
    "knn_pred = knn.predict(X_test)\n",
    "print(\"Accuracy Score: \", accuracy_score(Y_test, knn_pred))\n",
    "print(\"Roll Num: CB.SC.I5DAS21049\")\n",
    "print(\"Name: Pratiksha Cauvery K P\")"
   ]
  },
  {
   "cell_type": "code",
   "execution_count": null,
   "id": "e3996b74-9ba1-441e-a356-045617a5fecd",
   "metadata": {},
   "outputs": [],
   "source": []
  }
 ],
 "metadata": {
  "kernelspec": {
   "display_name": "Python 3 (ipykernel)",
   "language": "python",
   "name": "python3"
  },
  "language_info": {
   "codemirror_mode": {
    "name": "ipython",
    "version": 3
   },
   "file_extension": ".py",
   "mimetype": "text/x-python",
   "name": "python",
   "nbconvert_exporter": "python",
   "pygments_lexer": "ipython3",
   "version": "3.9.6"
  }
 },
 "nbformat": 4,
 "nbformat_minor": 5
}
