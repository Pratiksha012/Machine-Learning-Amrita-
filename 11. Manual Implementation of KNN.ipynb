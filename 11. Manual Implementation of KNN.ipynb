{
 "cells": [
  {
   "cell_type": "code",
   "execution_count": 2,
   "id": "d6e939c6",
   "metadata": {},
   "outputs": [],
   "source": [
    "import pandas as pd\n",
    "import numpy as np\n",
    "import matplotlib.pyplot as plt"
   ]
  },
  {
   "cell_type": "code",
   "execution_count": 3,
   "id": "4e828a8b-a23a-4237-a406-3bd5fc2e4502",
   "metadata": {},
   "outputs": [
    {
     "data": {
      "text/html": [
       "<div>\n",
       "<style scoped>\n",
       "    .dataframe tbody tr th:only-of-type {\n",
       "        vertical-align: middle;\n",
       "    }\n",
       "\n",
       "    .dataframe tbody tr th {\n",
       "        vertical-align: top;\n",
       "    }\n",
       "\n",
       "    .dataframe thead th {\n",
       "        text-align: right;\n",
       "    }\n",
       "</style>\n",
       "<table border=\"1\" class=\"dataframe\">\n",
       "  <thead>\n",
       "    <tr style=\"text-align: right;\">\n",
       "      <th></th>\n",
       "      <th>BRIGHTNESS</th>\n",
       "      <th>SATURATION</th>\n",
       "      <th>CLASS</th>\n",
       "    </tr>\n",
       "  </thead>\n",
       "  <tbody>\n",
       "    <tr>\n",
       "      <th>0</th>\n",
       "      <td>40</td>\n",
       "      <td>20</td>\n",
       "      <td>Red</td>\n",
       "    </tr>\n",
       "    <tr>\n",
       "      <th>1</th>\n",
       "      <td>50</td>\n",
       "      <td>50</td>\n",
       "      <td>Blue</td>\n",
       "    </tr>\n",
       "    <tr>\n",
       "      <th>2</th>\n",
       "      <td>60</td>\n",
       "      <td>90</td>\n",
       "      <td>Blue</td>\n",
       "    </tr>\n",
       "    <tr>\n",
       "      <th>3</th>\n",
       "      <td>10</td>\n",
       "      <td>25</td>\n",
       "      <td>Red</td>\n",
       "    </tr>\n",
       "    <tr>\n",
       "      <th>4</th>\n",
       "      <td>70</td>\n",
       "      <td>70</td>\n",
       "      <td>Blue</td>\n",
       "    </tr>\n",
       "    <tr>\n",
       "      <th>5</th>\n",
       "      <td>60</td>\n",
       "      <td>10</td>\n",
       "      <td>Red</td>\n",
       "    </tr>\n",
       "    <tr>\n",
       "      <th>6</th>\n",
       "      <td>25</td>\n",
       "      <td>80</td>\n",
       "      <td>Blue</td>\n",
       "    </tr>\n",
       "  </tbody>\n",
       "</table>\n",
       "</div>"
      ],
      "text/plain": [
       "   BRIGHTNESS  SATURATION CLASS\n",
       "0          40          20   Red\n",
       "1          50          50  Blue\n",
       "2          60          90  Blue\n",
       "3          10          25   Red\n",
       "4          70          70  Blue\n",
       "5          60          10   Red\n",
       "6          25          80  Blue"
      ]
     },
     "execution_count": 3,
     "metadata": {},
     "output_type": "execute_result"
    }
   ],
   "source": [
    "knn_df = pd.read_csv(r'KNN.csv')\n",
    "knn_df #input 20, 35, 3"
   ]
  },
  {
   "cell_type": "code",
   "execution_count": 6,
   "id": "d9bf106f",
   "metadata": {},
   "outputs": [
    {
     "name": "stdin",
     "output_type": "stream",
     "text": [
      "Enter the value of x0:  20\n",
      "Enter the value of y0:  35\n",
      "Enter the value of k:  3\n"
     ]
    }
   ],
   "source": [
    "x0 = int(input(\"Enter the value of x0: \"))\n",
    "y0 = int(input(\"Enter the value of y0: \"))\n",
    "k = int(input(\"Enter the value of k: \"))"
   ]
  },
  {
   "cell_type": "code",
   "execution_count": 7,
   "id": "f0b51ddd",
   "metadata": {},
   "outputs": [
    {
     "data": {
      "text/html": [
       "<div>\n",
       "<style scoped>\n",
       "    .dataframe tbody tr th:only-of-type {\n",
       "        vertical-align: middle;\n",
       "    }\n",
       "\n",
       "    .dataframe tbody tr th {\n",
       "        vertical-align: top;\n",
       "    }\n",
       "\n",
       "    .dataframe thead th {\n",
       "        text-align: right;\n",
       "    }\n",
       "</style>\n",
       "<table border=\"1\" class=\"dataframe\">\n",
       "  <thead>\n",
       "    <tr style=\"text-align: right;\">\n",
       "      <th></th>\n",
       "      <th>BRIGHTNESS</th>\n",
       "      <th>SATURATION</th>\n",
       "      <th>CLASS</th>\n",
       "      <th>Euclidean Distance</th>\n",
       "    </tr>\n",
       "  </thead>\n",
       "  <tbody>\n",
       "    <tr>\n",
       "      <th>0</th>\n",
       "      <td>40</td>\n",
       "      <td>20</td>\n",
       "      <td>Red</td>\n",
       "      <td>25.000000</td>\n",
       "    </tr>\n",
       "    <tr>\n",
       "      <th>1</th>\n",
       "      <td>50</td>\n",
       "      <td>50</td>\n",
       "      <td>Blue</td>\n",
       "      <td>33.541020</td>\n",
       "    </tr>\n",
       "    <tr>\n",
       "      <th>2</th>\n",
       "      <td>60</td>\n",
       "      <td>90</td>\n",
       "      <td>Blue</td>\n",
       "      <td>68.007353</td>\n",
       "    </tr>\n",
       "    <tr>\n",
       "      <th>3</th>\n",
       "      <td>10</td>\n",
       "      <td>25</td>\n",
       "      <td>Red</td>\n",
       "      <td>14.142136</td>\n",
       "    </tr>\n",
       "    <tr>\n",
       "      <th>4</th>\n",
       "      <td>70</td>\n",
       "      <td>70</td>\n",
       "      <td>Blue</td>\n",
       "      <td>61.032778</td>\n",
       "    </tr>\n",
       "    <tr>\n",
       "      <th>5</th>\n",
       "      <td>60</td>\n",
       "      <td>10</td>\n",
       "      <td>Red</td>\n",
       "      <td>47.169906</td>\n",
       "    </tr>\n",
       "    <tr>\n",
       "      <th>6</th>\n",
       "      <td>25</td>\n",
       "      <td>80</td>\n",
       "      <td>Blue</td>\n",
       "      <td>45.276926</td>\n",
       "    </tr>\n",
       "  </tbody>\n",
       "</table>\n",
       "</div>"
      ],
      "text/plain": [
       "   BRIGHTNESS  SATURATION CLASS  Euclidean Distance\n",
       "0          40          20   Red           25.000000\n",
       "1          50          50  Blue           33.541020\n",
       "2          60          90  Blue           68.007353\n",
       "3          10          25   Red           14.142136\n",
       "4          70          70  Blue           61.032778\n",
       "5          60          10   Red           47.169906\n",
       "6          25          80  Blue           45.276926"
      ]
     },
     "execution_count": 7,
     "metadata": {},
     "output_type": "execute_result"
    }
   ],
   "source": [
    "euc_dis = []\n",
    "for row in range(len(knn_df)):\n",
    "    dis = (((x0-knn_df['BRIGHTNESS'][row])**2)+((y0-knn_df['SATURATION'][row])**2))**0.5\n",
    "    euc_dis.append(dis)\n",
    "knn_df['Euclidean Distance'] = euc_dis\n",
    "knn_df"
   ]
  },
  {
   "cell_type": "code",
   "execution_count": 8,
   "id": "57cebf0b",
   "metadata": {},
   "outputs": [
    {
     "data": {
      "text/html": [
       "<div>\n",
       "<style scoped>\n",
       "    .dataframe tbody tr th:only-of-type {\n",
       "        vertical-align: middle;\n",
       "    }\n",
       "\n",
       "    .dataframe tbody tr th {\n",
       "        vertical-align: top;\n",
       "    }\n",
       "\n",
       "    .dataframe thead th {\n",
       "        text-align: right;\n",
       "    }\n",
       "</style>\n",
       "<table border=\"1\" class=\"dataframe\">\n",
       "  <thead>\n",
       "    <tr style=\"text-align: right;\">\n",
       "      <th></th>\n",
       "      <th>BRIGHTNESS</th>\n",
       "      <th>SATURATION</th>\n",
       "      <th>CLASS</th>\n",
       "      <th>Euclidean Distance</th>\n",
       "    </tr>\n",
       "  </thead>\n",
       "  <tbody>\n",
       "    <tr>\n",
       "      <th>0</th>\n",
       "      <td>40</td>\n",
       "      <td>20</td>\n",
       "      <td>Red</td>\n",
       "      <td>25.000000</td>\n",
       "    </tr>\n",
       "    <tr>\n",
       "      <th>1</th>\n",
       "      <td>50</td>\n",
       "      <td>50</td>\n",
       "      <td>Blue</td>\n",
       "      <td>33.541020</td>\n",
       "    </tr>\n",
       "    <tr>\n",
       "      <th>2</th>\n",
       "      <td>60</td>\n",
       "      <td>90</td>\n",
       "      <td>Blue</td>\n",
       "      <td>68.007353</td>\n",
       "    </tr>\n",
       "  </tbody>\n",
       "</table>\n",
       "</div>"
      ],
      "text/plain": [
       "   BRIGHTNESS  SATURATION CLASS  Euclidean Distance\n",
       "0          40          20   Red           25.000000\n",
       "1          50          50  Blue           33.541020\n",
       "2          60          90  Blue           68.007353"
      ]
     },
     "execution_count": 8,
     "metadata": {},
     "output_type": "execute_result"
    }
   ],
   "source": [
    "k_values = knn_df[:k]\n",
    "k_values"
   ]
  },
  {
   "cell_type": "code",
   "execution_count": 9,
   "id": "6a2f52f1",
   "metadata": {},
   "outputs": [
    {
     "name": "stdout",
     "output_type": "stream",
     "text": [
      "Red\n"
     ]
    }
   ],
   "source": [
    "print(max(k_values['CLASS']))"
   ]
  },
  {
   "cell_type": "markdown",
   "id": "9a13c520-5ce9-4b98-ba8c-645fdbeaf678",
   "metadata": {},
   "source": [
    "# Graphical Representation"
   ]
  },
  {
   "cell_type": "code",
   "execution_count": 10,
   "id": "38f6b654-a6e1-472b-b5c5-7245a461e40e",
   "metadata": {},
   "outputs": [],
   "source": [
    "\n",
    "redf = knn_df[knn_df['CLASS']=='Red']"
   ]
  },
  {
   "cell_type": "code",
   "execution_count": 11,
   "id": "934f3ef6-6143-4513-8abf-8d7fdba20ef1",
   "metadata": {},
   "outputs": [
    {
     "data": {
      "text/html": [
       "<div>\n",
       "<style scoped>\n",
       "    .dataframe tbody tr th:only-of-type {\n",
       "        vertical-align: middle;\n",
       "    }\n",
       "\n",
       "    .dataframe tbody tr th {\n",
       "        vertical-align: top;\n",
       "    }\n",
       "\n",
       "    .dataframe thead th {\n",
       "        text-align: right;\n",
       "    }\n",
       "</style>\n",
       "<table border=\"1\" class=\"dataframe\">\n",
       "  <thead>\n",
       "    <tr style=\"text-align: right;\">\n",
       "      <th></th>\n",
       "      <th>BRIGHTNESS</th>\n",
       "      <th>SATURATION</th>\n",
       "      <th>CLASS</th>\n",
       "      <th>Euclidean Distance</th>\n",
       "    </tr>\n",
       "  </thead>\n",
       "  <tbody>\n",
       "    <tr>\n",
       "      <th>0</th>\n",
       "      <td>40</td>\n",
       "      <td>20</td>\n",
       "      <td>Red</td>\n",
       "      <td>25.000000</td>\n",
       "    </tr>\n",
       "    <tr>\n",
       "      <th>3</th>\n",
       "      <td>10</td>\n",
       "      <td>25</td>\n",
       "      <td>Red</td>\n",
       "      <td>14.142136</td>\n",
       "    </tr>\n",
       "    <tr>\n",
       "      <th>5</th>\n",
       "      <td>60</td>\n",
       "      <td>10</td>\n",
       "      <td>Red</td>\n",
       "      <td>47.169906</td>\n",
       "    </tr>\n",
       "  </tbody>\n",
       "</table>\n",
       "</div>"
      ],
      "text/plain": [
       "   BRIGHTNESS  SATURATION CLASS  Euclidean Distance\n",
       "0          40          20   Red           25.000000\n",
       "3          10          25   Red           14.142136\n",
       "5          60          10   Red           47.169906"
      ]
     },
     "execution_count": 11,
     "metadata": {},
     "output_type": "execute_result"
    }
   ],
   "source": [
    "redf"
   ]
  },
  {
   "cell_type": "code",
   "execution_count": 12,
   "id": "ebc198a2-5e7c-4e89-9aa2-4356310cfaeb",
   "metadata": {},
   "outputs": [],
   "source": [
    "bluedf = knn_df[knn_df['CLASS']=='Blue']"
   ]
  },
  {
   "cell_type": "code",
   "execution_count": 13,
   "id": "95e83057-206c-446a-ae2c-ee4a8e2eefc1",
   "metadata": {},
   "outputs": [
    {
     "data": {
      "text/html": [
       "<div>\n",
       "<style scoped>\n",
       "    .dataframe tbody tr th:only-of-type {\n",
       "        vertical-align: middle;\n",
       "    }\n",
       "\n",
       "    .dataframe tbody tr th {\n",
       "        vertical-align: top;\n",
       "    }\n",
       "\n",
       "    .dataframe thead th {\n",
       "        text-align: right;\n",
       "    }\n",
       "</style>\n",
       "<table border=\"1\" class=\"dataframe\">\n",
       "  <thead>\n",
       "    <tr style=\"text-align: right;\">\n",
       "      <th></th>\n",
       "      <th>BRIGHTNESS</th>\n",
       "      <th>SATURATION</th>\n",
       "      <th>CLASS</th>\n",
       "      <th>Euclidean Distance</th>\n",
       "    </tr>\n",
       "  </thead>\n",
       "  <tbody>\n",
       "    <tr>\n",
       "      <th>1</th>\n",
       "      <td>50</td>\n",
       "      <td>50</td>\n",
       "      <td>Blue</td>\n",
       "      <td>33.541020</td>\n",
       "    </tr>\n",
       "    <tr>\n",
       "      <th>2</th>\n",
       "      <td>60</td>\n",
       "      <td>90</td>\n",
       "      <td>Blue</td>\n",
       "      <td>68.007353</td>\n",
       "    </tr>\n",
       "    <tr>\n",
       "      <th>4</th>\n",
       "      <td>70</td>\n",
       "      <td>70</td>\n",
       "      <td>Blue</td>\n",
       "      <td>61.032778</td>\n",
       "    </tr>\n",
       "    <tr>\n",
       "      <th>6</th>\n",
       "      <td>25</td>\n",
       "      <td>80</td>\n",
       "      <td>Blue</td>\n",
       "      <td>45.276926</td>\n",
       "    </tr>\n",
       "  </tbody>\n",
       "</table>\n",
       "</div>"
      ],
      "text/plain": [
       "   BRIGHTNESS  SATURATION CLASS  Euclidean Distance\n",
       "1          50          50  Blue           33.541020\n",
       "2          60          90  Blue           68.007353\n",
       "4          70          70  Blue           61.032778\n",
       "6          25          80  Blue           45.276926"
      ]
     },
     "execution_count": 13,
     "metadata": {},
     "output_type": "execute_result"
    }
   ],
   "source": [
    "bluedf"
   ]
  },
  {
   "cell_type": "code",
   "execution_count": 14,
   "id": "e256d846-6c43-45f6-8717-c95c83d66158",
   "metadata": {},
   "outputs": [
    {
     "data": {
      "text/plain": [
       "Text(0.5, 1.0, 'Classes before clustering')"
      ]
     },
     "execution_count": 14,
     "metadata": {},
     "output_type": "execute_result"
    },
    {
     "data": {
      "image/png": "[encoded data removed]",
      "text/plain": [
       "<Figure size 640x480 with 1 Axes>"
      ]
     },
     "metadata": {},
     "output_type": "display_data"
    }
   ],
   "source": [
    "plt.scatter(redf['BRIGHTNESS'], redf['SATURATION'], color = 'red', label = 'Class Red')\n",
    "plt.scatter(bluedf['BRIGHTNESS'], bluedf['SATURATION'], color = 'blue', label = 'Class Blue')\n",
    "plt.scatter(x0, y0, color = 'orange', label = 'Data Point')\n",
    "plt.legend(bbox_to_anchor=(1.3,0.95))\n",
    "plt.title('Classes before clustering')"
   ]
  },
  {
   "cell_type": "code",
   "execution_count": 15,
   "id": "a3396f54-5444-48e2-9f3f-330785841de5",
   "metadata": {},
   "outputs": [
    {
     "name": "stdout",
     "output_type": "stream",
     "text": [
      "Roll Num: CB.SC.I5DAS21049\n",
      "Name: Pratiksha Cauvery K P\n"
     ]
    },
    {
     "data": {
      "image/png": "[encoded data removed]",
      "text/plain": [
       "<Figure size 640x480 with 1 Axes>"
      ]
     },
     "metadata": {},
     "output_type": "display_data"
    }
   ],
   "source": [
    "plt.scatter(redf['BRIGHTNESS'], redf['SATURATION'], color = 'red', label = 'Class Red')\n",
    "plt.scatter(bluedf['BRIGHTNESS'], bluedf['SATURATION'], color = 'blue', label = 'Class Blue')\n",
    "plt.scatter(x0, y0, color = 'red', label = 'Data Point')\n",
    "plt.legend(bbox_to_anchor=(1.3,0.95))\n",
    "plt.title('Classes after clustering')\n",
    "print(\"Roll Num: CB.SC.I5DAS21049\")\n",
    "print(\"Name: Pratiksha Cauvery K P\")"
   ]
  },
  {
   "cell_type": "code",
   "execution_count": null,
   "id": "67c998f2-f1aa-450a-937f-8e53d0d39249",
   "metadata": {},
   "outputs": [],
   "source": []
  },
  {
   "cell_type": "code",
   "execution_count": null,
   "id": "e20fe183-03a1-44d6-bbb4-8914025ff265",
   "metadata": {},
   "outputs": [],
   "source": []
  }
 ],
 "metadata": {
  "kernelspec": {
   "display_name": "Python 3 (ipykernel)",
   "language": "python",
   "name": "python3"
  },
  "language_info": {
   "codemirror_mode": {
    "name": "ipython",
    "version": 3
   },
   "file_extension": ".py",
   "mimetype": "text/x-python",
   "name": "python",
   "nbconvert_exporter": "python",
   "pygments_lexer": "ipython3",
   "version": "3.9.6"
  }
 },
 "nbformat": 4,
 "nbformat_minor": 5
}
