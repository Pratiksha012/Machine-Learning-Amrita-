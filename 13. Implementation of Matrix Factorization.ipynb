{
 "cells": [
  {
   "cell_type": "code",
   "execution_count": 1,
   "id": "b30776bf-bad2-4d9f-8f94-e3cae4f36e9d",
   "metadata": {},
   "outputs": [],
   "source": [
    "import numpy as np\n",
    "import math\n",
    "import sklearn.metrics"
   ]
  },
  {
   "cell_type": "code",
   "execution_count": 2,
   "id": "c13f798c-e4f9-4b71-96a7-4b349c9816c0",
   "metadata": {},
   "outputs": [
    {
     "name": "stdout",
     "output_type": "stream",
     "text": [
      "[[0.92301189 4.63211906 3.94497766 2.4115929  1.68875115]\n",
      " [1.63799278 8.22023821 7.00082526 4.27965427 2.99688685]\n",
      " [0.79991239 4.01434639 3.4188471  2.08996555 1.46352716]\n",
      " [0.57937176 2.90756709 2.47625051 1.51374955 1.06002397]\n",
      " [0.28230661 1.41675078 1.20658604 0.73759463 0.5165108 ]]\n",
      "Roll Num: CB.SC.I5DAS21049\n",
      "Name: Pratiksha Cauvery K P\n"
     ]
    }
   ],
   "source": [
    "def matrix_factorization(R, P, Q, K, steps=5000, alpha=0.0001 ):\n",
    "    Q = Q.T\n",
    "    for step in range(steps):\n",
    "        for i in range(len(R)):\n",
    "            for j in range(len(R[i])):\n",
    "                if R[i][j] > 0:\n",
    "                    eij = R[i][j] - np.dot(P[i,:],Q[:,j])\n",
    "                    for k in range(K):\n",
    "                        P[i][k] = P[i][k] + alpha * 2 * eij * Q[k][j]\n",
    "                        Q[k][j] = Q[k][j] + alpha * 2 * eij * P[i][k]\n",
    "    return P, Q.T\n",
    "R = [[0,5,4,2, 1],[1,0,0,5, 3], [1,4,4,1, 0],[0,0,2, 0, 2],[3,1,1,0, 0] ]\n",
    "R = np.array(R)\n",
    "N = len(R)\n",
    "M = len(R[0])\n",
    "K=1\n",
    "P = np.random.rand(N,K)\n",
    "Q = np.random.rand(M,K)\n",
    "nP, nQ = matrix_factorization(R, P, Q, K)\n",
    "nR = np.dot(nP, nQ.T)\n",
    "print(nR)\n",
    "print(\"Roll Num: CB.SC.I5DAS21049\")\n",
    "print(\"Name: Pratiksha Cauvery K P\")"
   ]
  },
  {
   "cell_type": "code",
   "execution_count": null,
   "id": "b161a713-8931-4af6-acff-f376ce117a0a",
   "metadata": {},
   "outputs": [],
   "source": []
  }
 ],
 "metadata": {
  "kernelspec": {
   "display_name": "Python 3 (ipykernel)",
   "language": "python",
   "name": "python3"
  },
  "language_info": {
   "codemirror_mode": {
    "name": "ipython",
    "version": 3
   },
   "file_extension": ".py",
   "mimetype": "text/x-python",
   "name": "python",
   "nbconvert_exporter": "python",
   "pygments_lexer": "ipython3",
   "version": "3.9.6"
  }
 },
 "nbformat": 4,
 "nbformat_minor": 5
}
